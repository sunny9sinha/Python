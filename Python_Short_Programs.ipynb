{
  "nbformat": 4,
  "nbformat_minor": 0,
  "metadata": {
    "colab": {
      "name": "Python_Short_Programs.ipynb",
      "provenance": [],
      "collapsed_sections": [],
      "authorship_tag": "ABX9TyN66IYP5QaTc5GV4VeApRZY",
      "include_colab_link": true
    },
    "kernelspec": {
      "name": "python3",
      "display_name": "Python 3"
    },
    "language_info": {
      "name": "python"
    }
  },
  "cells": [
    {
      "cell_type": "markdown",
      "metadata": {
        "id": "view-in-github",
        "colab_type": "text"
      },
      "source": [
        "<a href=\"https://colab.research.google.com/github/sunny9sinha/Python/blob/main/Python_Short_Programs.ipynb\" target=\"_parent\"><img src=\"https://colab.research.google.com/assets/colab-badge.svg\" alt=\"Open In Colab\"/></a>"
      ]
    },
    {
      "cell_type": "markdown",
      "metadata": {
        "id": "DUvfRJNTj7Rt"
      },
      "source": [
        "# **Create Acronyms Using Python**"
      ]
    },
    {
      "cell_type": "code",
      "metadata": {
        "colab": {
          "base_uri": "https://localhost:8080/"
        },
        "id": "MYYExdoFjTjN",
        "outputId": "335ebc98-d8b7-4a1f-86fe-998d9eb6d0e4"
      },
      "source": [
        "def get_acronym(phrase):\n",
        "  acron = ''\n",
        "  for text in phrase:\n",
        "    acron = acron+text[0].upper()\n",
        "  return acron\n",
        "\n",
        "phrase = str(input(\"Please enter the phrase: \")).split()\n",
        "print(get_acronym(phrase))"
      ],
      "execution_count": null,
      "outputs": [
        {
          "output_type": "stream",
          "name": "stdout",
          "text": [
            "Please enter the phrase: United States\n",
            "US\n"
          ]
        }
      ]
    },
    {
      "cell_type": "markdown",
      "metadata": {
        "id": "9lrDzGiilkG6"
      },
      "source": [
        "# **Alarm Clock With Python**"
      ]
    },
    {
      "cell_type": "code",
      "metadata": {
        "colab": {
          "base_uri": "https://localhost:8080/"
        },
        "id": "4Xf_9qHys8nN",
        "outputId": "071f55a9-6c31-49f9-8dd8-8e3bd76c0524"
      },
      "source": [
        "!pip install playsound\n",
        "!pip install pygobject"
      ],
      "execution_count": null,
      "outputs": [
        {
          "output_type": "stream",
          "name": "stdout",
          "text": [
            "Requirement already satisfied: playsound in /usr/local/lib/python3.7/dist-packages (1.3.0)\n",
            "Requirement already satisfied: pygobject in /usr/lib/python3/dist-packages (3.26.1)\n"
          ]
        }
      ]
    },
    {
      "cell_type": "code",
      "metadata": {
        "colab": {
          "base_uri": "https://localhost:8080/"
        },
        "id": "yIu4G3Y7k6jE",
        "outputId": "b1801e0f-4db4-49b4-8190-7aa155057362"
      },
      "source": [
        "from datetime import datetime,timezone,timedelta\n",
        "from playsound import playsound\n",
        "\n",
        "def alrm_clock(alarm_time):\n",
        "  alarm_hour = alarm_time[0:2]\n",
        "  alarm_minute = alarm_time[3:5]\n",
        "  alarm_seconds = alarm_time[6:8]\n",
        "  alarm_period = alarm_time[9:11].upper()\n",
        "  print(\"setting up Alarm......\")\n",
        "  #print(\"Given time alrm Hour:{} alarm Minute:{} alarm Seconds:{} alarm Period:{}\".format(alarm_hour,alarm_minute,alarm_seconds,alarm_period))\n",
        "  while(True):\n",
        "    now = datetime.now(tz=timezone(timedelta(hours=5, minutes=30)))\n",
        "    now_hour = now.strftime(\"%I\")\n",
        "    now_minute = now.strftime(\"%M\")\n",
        "    now_seconds = now.strftime(\"%S\")\n",
        "    now_period = now.strftime(\"%p\")\n",
        "    #print(\"Now Hour:{} Now Minute:{} Now Seconds:{} Now Period:{}\".format(now_hour,now_minute,now_seconds,now_period))\n",
        "    if (now_period == alarm_period):\n",
        "      if (now_hour == alarm_hour):\n",
        "        if (now_minute == alarm_minute):\n",
        "          if (now_seconds == alarm_seconds):\n",
        "            print(\"Wake up it's time....\")\n",
        "            #playsound('/audio.wav')        ## Uncomment if not on colab\n",
        "            break\n",
        "\n",
        "alarm_time = input(\"Please enter the time to set alarm in format HH:MM:SS:\\n\")\n",
        "alrm_clock(alarm_time)\n",
        "\n",
        "\n"
      ],
      "execution_count": null,
      "outputs": [
        {
          "output_type": "stream",
          "name": "stdout",
          "text": [
            "Please enter the time to set alarm in format HH:MM:SS:\n",
            "11:23:00:pm\n",
            "setting up Alarm......\n",
            "Wake up it's time....\n"
          ]
        }
      ]
    },
    {
      "cell_type": "markdown",
      "metadata": {
        "id": "oiLdgSgt0avo"
      },
      "source": [
        "# **EMail Slicer With Python**"
      ]
    },
    {
      "cell_type": "code",
      "metadata": {
        "colab": {
          "base_uri": "https://localhost:8080/"
        },
        "id": "5epzd1xl0qMH",
        "outputId": "69b51286-7119-4b5e-93fc-100da10b987a"
      },
      "source": [
        "def email_slicer(email):\n",
        "  print(\"Your username is: {}, and domain name is: {}\".format(email[:email.index('@')], email[email.index('@')+1:]))\n",
        "\n",
        "email = str(input(\"Enter your EMail address: \"))\n",
        "email_slicer(email)"
      ],
      "execution_count": null,
      "outputs": [
        {
          "output_type": "stream",
          "name": "stdout",
          "text": [
            "Enter your EMail address: abacd8xyz@mailserver.com\n",
            "Your username is: abacd8xyz, and domain name is: mailserver.com\n"
          ]
        }
      ]
    },
    {
      "cell_type": "markdown",
      "metadata": {
        "id": "p2fiziI47NRS"
      },
      "source": [
        "# **Story Generator With Python**"
      ]
    },
    {
      "cell_type": "code",
      "metadata": {
        "colab": {
          "base_uri": "https://localhost:8080/"
        },
        "id": "ixxnPqFK66z6",
        "outputId": "6f82fd6c-0c58-42b7-e47d-fc78fd48c10d"
      },
      "source": [
        "import random\n",
        "\n",
        "def story_teller():\n",
        "  when = ['A few years ago', 'Yesterday', 'Last night','A long time ago','On 20th Jan']\n",
        "  who = ['a rabbit','an elephant','a mouse','a turtle','a cat']\n",
        "  name = ['Amar','Miriam','Daniel','Ali','Starwalker']\n",
        "  residence = ['Barcelona','India','Germany','Venice','England']\n",
        "  went = ['cinema','university','seminar','school','laundry']\n",
        "  happened = ['made a lot of friends','Eat a burger', 'found a secret key', 'solved a mistery', 'wrote a book']\n",
        "  print(random.choice(when) + ', ' + random.choice(who) + ' that lived in ' + random.choice(residence) + ', went to the ' + random.choice(went) + ' and ' + random.choice(happened))\n",
        "\n",
        "story_teller()"
      ],
      "execution_count": null,
      "outputs": [
        {
          "output_type": "stream",
          "name": "stdout",
          "text": [
            "Last night, a cat that lived in Barcelona, went to the school and wrote a book\n"
          ]
        }
      ]
    },
    {
      "cell_type": "markdown",
      "metadata": {
        "id": "GKsfZa4TE53r"
      },
      "source": [
        "# **Generate Password With Python**"
      ]
    },
    {
      "cell_type": "code",
      "metadata": {
        "colab": {
          "base_uri": "https://localhost:8080/"
        },
        "id": "5DI3JEQVFHIa",
        "outputId": "f82f2b2f-67fe-4b30-d7db-e1c31fc50501"
      },
      "source": [
        "import random\n",
        "\n",
        "def generate_password(passlength):\n",
        "  s = \"qwertyuiopasdfghjklzxcvbnm1234567890QWERTYUIOPASDFGHJKLZXCVBNM!@#$%^&*?\"\n",
        "  password = random.sample(s,passlength)\n",
        "  return password\n",
        "\n",
        "passlength = int(input(\"Enter the password length: \"))\n",
        "print(\"Your random password: {}\".format(\"\".join(generate_password(passlength))))\n"
      ],
      "execution_count": null,
      "outputs": [
        {
          "output_type": "stream",
          "name": "stdout",
          "text": [
            "Enter the password length: 8\n",
            "Your random password: uOch$EG&\n"
          ]
        }
      ]
    },
    {
      "cell_type": "markdown",
      "metadata": {
        "id": "LNCKp8dMQePZ"
      },
      "source": [
        "# **Play Rock, Paper, and Scissors with Python**"
      ]
    },
    {
      "cell_type": "code",
      "metadata": {
        "id": "ExujsMTQQsz8",
        "colab": {
          "base_uri": "https://localhost:8080/"
        },
        "outputId": "d1edef2e-e051-4adc-a797-a52790d77839"
      },
      "source": [
        "import random\n",
        "\n",
        "choices = ['Rock','Paper','Scissors']\n",
        "\n",
        "def get_move_computer():\n",
        "  move = random.choice(choices)\n",
        "  return move\n",
        "\n",
        "def get_move_human():\n",
        "  move = input(\"Please enter your choice:Rock, Paper, Scissors ?\\n\").capitalize()\n",
        "  return move\n",
        "\n",
        "def game():\n",
        "  computer_score = 0\n",
        "  player_score = 0\n",
        "  while True:\n",
        "    computer = get_move_computer()\n",
        "    player = get_move_human()\n",
        "    \n",
        "    if (player == computer):\n",
        "      print(\"Tie!\")\n",
        "    elif player == 'Rock':\n",
        "      if computer == 'Scissor':\n",
        "        print(\"You Win!\",player,\"smashes\",computer)\n",
        "        player_score+=1\n",
        "      else:\n",
        "        print(\"You loose!\",computer,\"covers\",player)\n",
        "        computer_score+=1\n",
        "    elif player == 'Scissors':\n",
        "      if computer == 'Rock':\n",
        "        print(\"You loose!\",computer,\"smashes\",player)\n",
        "        computer_score+=1\n",
        "      else:\n",
        "        print(\"You win!\",player,\"cuts\", computer)\n",
        "        player_score+=1\n",
        "    elif player == 'Paper':\n",
        "      if computer =='Rock':\n",
        "        print(\"You win!\",player,\"covers\",computer)\n",
        "        player_score+=1\n",
        "      else:\n",
        "        print(\"You loose!\",computer,\"cuts\",player)\n",
        "        computer_score+=1\n",
        "    elif player == 'End':\n",
        "      print(\"**********FINAL SCORE*************\")\n",
        "      print(f\"COMPUTER:{computer_score}\")\n",
        "      print(f\"PLAYER:{player_score}\")\n",
        "      break;\n",
        "\n",
        "game()"
      ],
      "execution_count": null,
      "outputs": [
        {
          "output_type": "stream",
          "name": "stdout",
          "text": [
            "Please enter your choice:Rock, Paper, Scissors ?\n",
            "paper\n",
            "You win! Paper covers Rock\n",
            "Please enter your choice:Rock, Paper, Scissors ?\n",
            "rock\n",
            "You loose! Paper covers Rock\n",
            "Please enter your choice:Rock, Paper, Scissors ?\n",
            "paper\n",
            "Tie!\n",
            "Please enter your choice:Rock, Paper, Scissors ?\n",
            "scissor\n",
            "Please enter your choice:Rock, Paper, Scissors ?\n",
            "scissors\n",
            "You win! Scissors cuts Paper\n",
            "Please enter your choice:Rock, Paper, Scissors ?\n",
            "rock\n",
            "You loose! Paper covers Rock\n",
            "Please enter your choice:Rock, Paper, Scissors ?\n",
            "paper\n",
            "You win! Paper covers Rock\n",
            "Please enter your choice:Rock, Paper, Scissors ?\n",
            "end\n",
            "**********FINAL SCORE*************\n",
            "COMPUTER:2\n",
            "PLAYER:3\n"
          ]
        }
      ]
    },
    {
      "cell_type": "markdown",
      "metadata": {
        "id": "mPO6MbBJopax"
      },
      "source": [
        "# **Dice Roll Simulator with Python**"
      ]
    },
    {
      "cell_type": "code",
      "metadata": {
        "colab": {
          "base_uri": "https://localhost:8080/"
        },
        "id": "uSnz8-AApKqA",
        "outputId": "a7fb032b-12b1-4f4c-d0eb-d1d655e88bf8"
      },
      "source": [
        "import random\n",
        "\n",
        "def roll_dice():\n",
        "  roll_again ='Yes'\n",
        "  min_val = 1\n",
        "  max_val = 6\n",
        "\n",
        "  while roll_again == 'Yes' or roll_again == 'Y':\n",
        "    print(\"[::] Rolling Dice [::]\")\n",
        "    print(\"The values are:\")\n",
        "\n",
        "    print(\"Dice 1\")\n",
        "    print(random.randint(min_val,max_val))\n",
        "\n",
        "    print(\"Dice 2\")\n",
        "    print(random.randint(min_val,max_val))\n",
        "\n",
        "    roll_again =input(\"Want to roll dice again? [Yes,No]\")\n",
        "\n",
        "  print(\"*************** THANK YOU ******************\")\n",
        "\n",
        "roll_dice('')"
      ],
      "execution_count": null,
      "outputs": [
        {
          "output_type": "stream",
          "name": "stdout",
          "text": [
            "[::] Rolling Dice [::]\n",
            "The values are:\n",
            "Dice 1\n",
            "3\n",
            "Dice 2\n",
            "4\n",
            "Want to roll dice again? [Yes,No]Y\n",
            "[::] Rolling Dice [::]\n",
            "The values are:\n",
            "Dice 1\n",
            "4\n",
            "Dice 2\n",
            "4\n",
            "Want to roll dice again? [Yes,No]Yes\n",
            "[::] Rolling Dice [::]\n",
            "The values are:\n",
            "Dice 1\n",
            "5\n",
            "Dice 2\n",
            "5\n",
            "Want to roll dice again? [Yes,No]Y\n",
            "[::] Rolling Dice [::]\n",
            "The values are:\n",
            "Dice 1\n",
            "6\n",
            "Dice 2\n",
            "4\n",
            "Want to roll dice again? [Yes,No]N\n",
            "*************** THANK YOU ******************\n"
          ]
        }
      ]
    },
    {
      "cell_type": "markdown",
      "metadata": {
        "id": "_jAWMZxnroIQ"
      },
      "source": [
        "# **QR Code Generator**"
      ]
    },
    {
      "cell_type": "code",
      "metadata": {
        "colab": {
          "base_uri": "https://localhost:8080/"
        },
        "id": "doDe5ELlr0xV",
        "outputId": "c7c95daf-f83c-49b7-cd4a-f655b7707259"
      },
      "source": [
        "!pip install pyqrcode"
      ],
      "execution_count": null,
      "outputs": [
        {
          "output_type": "stream",
          "name": "stdout",
          "text": [
            "Collecting pyqrcode\n",
            "  Downloading PyQRCode-1.2.1.zip (41 kB)\n",
            "\u001b[?25l\r\u001b[K     |███████▉                        | 10 kB 21.3 MB/s eta 0:00:01\r\u001b[K     |███████████████▋                | 20 kB 24.1 MB/s eta 0:00:01\r\u001b[K     |███████████████████████▌        | 30 kB 16.7 MB/s eta 0:00:01\r\u001b[K     |███████████████████████████████▎| 40 kB 12.0 MB/s eta 0:00:01\r\u001b[K     |████████████████████████████████| 41 kB 616 kB/s \n",
            "\u001b[?25hBuilding wheels for collected packages: pyqrcode\n",
            "  Building wheel for pyqrcode (setup.py) ... \u001b[?25l\u001b[?25hdone\n",
            "  Created wheel for pyqrcode: filename=PyQRCode-1.2.1-py3-none-any.whl size=36245 sha256=8aca4514ba973014469c1123b241ebc44fa8b7d2a4abf14c2e146053f82cc668\n",
            "  Stored in directory: /root/.cache/pip/wheels/aa/14/ad/f09824edf35fdc5fd8acc01b60ff57f858f212a2d5c41dddd2\n",
            "Successfully built pyqrcode\n",
            "Installing collected packages: pyqrcode\n",
            "Successfully installed pyqrcode-1.2.1\n"
          ]
        }
      ]
    },
    {
      "cell_type": "code",
      "metadata": {
        "colab": {
          "base_uri": "https://localhost:8080/"
        },
        "id": "YPiv3BY5sN4k",
        "outputId": "0751dda0-2089-4620-abac-c7f40920bec3"
      },
      "source": [
        "import pyqrcode\n",
        "from pyqrcode import QRCode\n",
        "\n",
        "string_to_encode = input(\"Enter the URL or statement to encode:\")\n",
        "url = pyqrcode.create(string_to_encode)\n",
        "url.svg(\"myQRcode.svg\", scale = 8)\n",
        "print(url)"
      ],
      "execution_count": null,
      "outputs": [
        {
          "output_type": "stream",
          "name": "stdout",
          "text": [
            "Enter the URL or statement to encode:my name is sunny\n",
            "QRCode(content=b'my name is sunny', error='H', version=3, mode='binary')\n"
          ]
        }
      ]
    },
    {
      "cell_type": "markdown",
      "metadata": {
        "id": "8dMYivu1vD-0"
      },
      "source": [
        "# **Animal Quiz Game**"
      ]
    },
    {
      "cell_type": "code",
      "metadata": {
        "id": "pSGH_FIlvJbq",
        "colab": {
          "base_uri": "https://localhost:8080/"
        },
        "outputId": "bd25cff4-031f-4fc0-905f-95d8333b6e94"
      },
      "source": [
        "score = 0\n",
        "\n",
        "def check_answer(guess,answer):\n",
        "  global score\n",
        "  guessing = True\n",
        "  attempts = 0\n",
        "  while guessing and attempts<3:\n",
        "    if answer.lower() == guess.lower():\n",
        "      print(\"Right Aswer!\")\n",
        "      score +=1\n",
        "      guessing = False\n",
        "    else:\n",
        "      print(\"Sorry Wrong Answer\")\n",
        "      if attempts < 2:\n",
        "        guess = input(\"Try again: \")\n",
        "      attempts +=1\n",
        "  \n",
        "  if attempts >=3:\n",
        "    print(\"All attempts finished\")\n",
        "    print(f\"Right answer is {answer}\")\n",
        "    print(f\"Your score : {score}\")\n",
        "\n",
        "print(\"Guess the animal::\")\n",
        "guess1 = input(\"Which bear lives at the North Pole? \")\n",
        "check_answer(guess1, \"polar bear\")\n",
        "guess2 = input(\"Which is the fastest land animal? \")\n",
        "check_answer(guess2, \"cheetah\")\n",
        "guess3 = input(\"Which is the largest animal? \")\n",
        "check_answer(guess3,\"blue whale\")\n",
        "print(f\"Your score is {score}\")"
      ],
      "execution_count": 2,
      "outputs": [
        {
          "output_type": "stream",
          "name": "stdout",
          "text": [
            "Guess the animal::\n",
            "Which bear lives at the North Pole? bear\n",
            "Sorry Wrong Answer\n",
            "Try again: bear\n",
            "Sorry Wrong Answer\n",
            "Try again: bear\n",
            "Sorry Wrong Answer\n",
            "All attempts finished\n",
            "Right answer is polar bear\n",
            "Your score : 0\n",
            "Which is the fastest land animal? whale\n",
            "Sorry Wrong Answer\n",
            "Try again: cheetah\n",
            "Right Aswer!\n",
            "Which is the largest animal? cheetah\n",
            "Sorry Wrong Answer\n",
            "Try again: blue whale\n",
            "Right Aswer!\n",
            "Your score is 2\n"
          ]
        }
      ]
    },
    {
      "cell_type": "markdown",
      "metadata": {
        "id": "nW3W4bI1RJRE"
      },
      "source": [
        "# **Print Colored Text**"
      ]
    },
    {
      "cell_type": "code",
      "metadata": {
        "colab": {
          "base_uri": "https://localhost:8080/"
        },
        "id": "ppu352ktRS3a",
        "outputId": "290e6307-16c4-444a-960a-f810ac493e4f"
      },
      "source": [
        "!pip install colorama"
      ],
      "execution_count": 3,
      "outputs": [
        {
          "output_type": "stream",
          "name": "stdout",
          "text": [
            "Collecting colorama\n",
            "  Downloading colorama-0.4.4-py2.py3-none-any.whl (16 kB)\n",
            "Installing collected packages: colorama\n",
            "Successfully installed colorama-0.4.4\n"
          ]
        }
      ]
    },
    {
      "cell_type": "code",
      "metadata": {
        "colab": {
          "base_uri": "https://localhost:8080/"
        },
        "id": "1kw7goD9RoKv",
        "outputId": "466016ae-b2ab-4f69-a100-cfda0952ad1e"
      },
      "source": [
        "import colorama\n",
        "from colorama import Fore,Back,Style\n",
        "colorama.init(convert=True)\n",
        "\n",
        "print(Fore.BLUE+Back.YELLOW+\"Hi my name is Sunny \"+ Fore.YELLOW+Back.BLUE+\"I am your Friend\")\n",
        "print(Back.CYAN+\"We can discuss things that are really important for you\")\n",
        "print(Fore.RED+Back.GREEN+ \"And things that will shape our future\")"
      ],
      "execution_count": 5,
      "outputs": [
        {
          "output_type": "stream",
          "name": "stdout",
          "text": [
            "Hi my name is Sunny I am your Friend\n",
            "We can discuss things that are really important for you\n",
            "And things that will shape our future\n"
          ]
        }
      ]
    },
    {
      "cell_type": "markdown",
      "metadata": {
        "id": "_kHSQ2ryULBi"
      },
      "source": [
        "# **BMI Calculator**"
      ]
    },
    {
      "cell_type": "code",
      "metadata": {
        "colab": {
          "base_uri": "https://localhost:8080/"
        },
        "id": "un37IwIKUUB8",
        "outputId": "c4adebac-be2c-4adc-fac9-394181b2c934"
      },
      "source": [
        "def display_BMI(height,weight):\n",
        "  height = height/100\n",
        "  BMI = weight/(height*height)\n",
        "  if BMI>0:\n",
        "    if BMI<16:\n",
        "      print(\"You are severely under weight\")\n",
        "    elif BMI<=18.5:\n",
        "      print(\"You are underweight\")\n",
        "    elif BMI<=25:\n",
        "      print(\"You are healthy\")\n",
        "    elif BMI<=30:\n",
        "      print(\"You are overweight\")\n",
        "    else:\n",
        "      print(\"You are severely overweight\")\n",
        "  else:\n",
        "    print(\"Enter Valid Details\")\n",
        "\n",
        "height = float(input(\"Enter height in centimeters:\"))\n",
        "weight = float(input(\"Enter weight in Kgs.: \"))\n",
        "display_BMI(height,weight)"
      ],
      "execution_count": 9,
      "outputs": [
        {
          "output_type": "stream",
          "name": "stdout",
          "text": [
            "Enter height in centimeters:176.784\n",
            "Enter weight in Kgs.: 90\n",
            "You are overweight\n"
          ]
        }
      ]
    },
    {
      "cell_type": "markdown",
      "metadata": {
        "id": "zvggcciVha-o"
      },
      "source": [
        "# **Fahrenheit to Celcius Converter**"
      ]
    },
    {
      "cell_type": "code",
      "metadata": {
        "colab": {
          "base_uri": "https://localhost:8080/"
        },
        "id": "kFdl8tdfhlN0",
        "outputId": "9367c88d-ad22-418b-f35b-2be5501732aa"
      },
      "source": [
        "def F_to_C(temp_F):\n",
        "  temp_C = (temp_F-32)*5/9\n",
        "  return temp_C\n",
        "\n",
        "temp_F = float(input(\"Enter temperature in Fahrenheit: \"))\n",
        "print(f\"Temperature in Celcius: {F_to_C(temp_F)}\")"
      ],
      "execution_count": 14,
      "outputs": [
        {
          "output_type": "stream",
          "name": "stdout",
          "text": [
            "Enter temperature in Fahrenheit: 210\n",
            "Temperature in Celcius: 98.88888888888889\n"
          ]
        }
      ]
    },
    {
      "cell_type": "markdown",
      "metadata": {
        "id": "H5mfO2FBipUV"
      },
      "source": [
        "# **Convert Roman Numbers to Decimals**"
      ]
    },
    {
      "cell_type": "code",
      "metadata": {
        "colab": {
          "base_uri": "https://localhost:8080/"
        },
        "id": "WHCoE3SUi0N4",
        "outputId": "241e47a4-7ccf-4636-e658-46d48d283459"
      },
      "source": [
        "tallies = {\n",
        "    'I':1,\n",
        "    'V':5,\n",
        "    'X':10,\n",
        "    'L':50,\n",
        "    'C':100,\n",
        "    'D':500,\n",
        "    'M':1000    \n",
        "}\n",
        "\n",
        "def Roman_to_Decimal(roman):\n",
        "  sum = 0;\n",
        "  for i in range(len(roman)-1):\n",
        "    if tallies[roman[i]]<tallies[roman[i+1]]:\n",
        "      sum -= tallies[roman[i]]\n",
        "    else:\n",
        "      sum += tallies[roman[i]]\n",
        "    \n",
        "  sum = sum + tallies[roman[-1]]\n",
        "  return sum\n",
        "\n",
        "roman = input(\"Enter the Roman Number: \")\n",
        "print(f\"Decimal Number : {Roman_to_Decimal(roman)}\")\n"
      ],
      "execution_count": 28,
      "outputs": [
        {
          "output_type": "stream",
          "name": "stdout",
          "text": [
            "Enter the Roman Number: XIV\n",
            "Decimal Number : 14\n"
          ]
        }
      ]
    }
  ]
}